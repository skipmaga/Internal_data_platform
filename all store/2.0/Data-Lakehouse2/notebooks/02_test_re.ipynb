{
 "cells": [
  {
   "cell_type": "code",
   "execution_count": 1,
   "id": "e79d59a5-ab1c-4343-ab01-56775a825513",
   "metadata": {},
   "outputs": [],
   "source": [
    "from datetime import datetime\n",
    "from pyspark import SparkContext, HiveContext\n",
    "from pyspark.sql import SparkSession, SQLContext\n",
    "import pyspark.sql.functions as funcs\n",
    "import pandas as pd\n",
    "from pyspark.sql.functions import row_number,lit\n",
    "from pyspark.sql.window import Window"
   ]
  },
  {
   "cell_type": "code",
   "execution_count": 2,
   "id": "07303196-2063-40f1-91ed-7e1a3fab2aa9",
   "metadata": {},
   "outputs": [
    {
     "name": "stderr",
     "output_type": "stream",
     "text": [
      "/usr/local/spark/python/pyspark/sql/context.py:112: FutureWarning: Deprecated in 3.0.0. Use SparkSession.builder.getOrCreate() instead.\n",
      "  warnings.warn(\n"
     ]
    }
   ],
   "source": [
    "spark = (SparkSession.builder.appName(\"pyspark-02-{}\".format(datetime.today()))\n",
    "        .master(\"spark://192.168.1.11:8081\")      \n",
    "        .getOrCreate())\n",
    "sqlContext = SQLContext(spark)"
   ]
  },
  {
   "cell_type": "code",
   "execution_count": 3,
   "id": "d4633667-8607-46fb-80de-873c5fd72416",
   "metadata": {},
   "outputs": [
    {
     "data": {
      "text/html": [
       "<div>\n",
       "<style scoped>\n",
       "    .dataframe tbody tr th:only-of-type {\n",
       "        vertical-align: middle;\n",
       "    }\n",
       "\n",
       "    .dataframe tbody tr th {\n",
       "        vertical-align: top;\n",
       "    }\n",
       "\n",
       "    .dataframe thead th {\n",
       "        text-align: right;\n",
       "    }\n",
       "</style>\n",
       "<table border=\"1\" class=\"dataframe\">\n",
       "  <thead>\n",
       "    <tr style=\"text-align: right;\">\n",
       "      <th></th>\n",
       "      <th>namespace</th>\n",
       "      <th>tableName</th>\n",
       "      <th>isTemporary</th>\n",
       "    </tr>\n",
       "  </thead>\n",
       "  <tbody>\n",
       "    <tr>\n",
       "      <th>0</th>\n",
       "      <td>default</td>\n",
       "      <td>bank_name</td>\n",
       "      <td>False</td>\n",
       "    </tr>\n",
       "    <tr>\n",
       "      <th>1</th>\n",
       "      <td>default</td>\n",
       "      <td>pp_transaction</td>\n",
       "      <td>False</td>\n",
       "    </tr>\n",
       "    <tr>\n",
       "      <th>2</th>\n",
       "      <td>default</td>\n",
       "      <td>use_case</td>\n",
       "      <td>False</td>\n",
       "    </tr>\n",
       "    <tr>\n",
       "      <th>3</th>\n",
       "      <td>default</td>\n",
       "      <td>use_case2</td>\n",
       "      <td>False</td>\n",
       "    </tr>\n",
       "  </tbody>\n",
       "</table>\n",
       "</div>"
      ],
      "text/plain": [
       "  namespace       tableName  isTemporary\n",
       "0   default       bank_name        False\n",
       "1   default  pp_transaction        False\n",
       "2   default        use_case        False\n",
       "3   default       use_case2        False"
      ]
     },
     "execution_count": 3,
     "metadata": {},
     "output_type": "execute_result"
    }
   ],
   "source": [
    "spark.sql(\"show tables\").toPandas()"
   ]
  },
  {
   "cell_type": "code",
   "execution_count": 4,
   "id": "9971df0b-a870-445c-9af7-97468a2ec76a",
   "metadata": {},
   "outputs": [],
   "source": [
    "data = spark.sql(\"SELECT * FROM bank_name\")"
   ]
  },
  {
   "cell_type": "code",
   "execution_count": 5,
   "id": "b2f40b43-54d5-4d25-b389-8180fe1c08aa",
   "metadata": {},
   "outputs": [
    {
     "name": "stdout",
     "output_type": "stream",
     "text": [
      "+---------+---+\n",
      "|bank_send| id|\n",
      "+---------+---+\n",
      "|     MHCB|  1|\n",
      "|     TCRB|  2|\n",
      "|      GSB|  3|\n",
      "|      GHB|  4|\n",
      "|      SCB|  5|\n",
      "|     SCBT|  6|\n",
      "|     CITI|  7|\n",
      "|     UOBT|  8|\n",
      "|     ISBT|  9|\n",
      "|     ICBC| 10|\n",
      "|     BOCB| 11|\n",
      "|     TSCO| 12|\n",
      "|      BBL| 13|\n",
      "|     IOBA| 14|\n",
      "|      KTB| 15|\n",
      "|      BAY| 16|\n",
      "|     CMBT| 17|\n",
      "|     BNPP| 18|\n",
      "|     HSBC| 19|\n",
      "|     SMBC| 20|\n",
      "+---------+---+\n",
      "only showing top 20 rows\n",
      "\n"
     ]
    }
   ],
   "source": [
    "data.show()"
   ]
  },
  {
   "cell_type": "code",
   "execution_count": 6,
   "id": "a8a4bb70-8ba0-4f5e-a31b-c0ab6feba94d",
   "metadata": {},
   "outputs": [
    {
     "name": "stdout",
     "output_type": "stream",
     "text": [
      "26\n"
     ]
    }
   ],
   "source": [
    "print(data.count())"
   ]
  },
  {
   "cell_type": "code",
   "execution_count": 9,
   "id": "1686a9cc-b03e-4153-93f1-4e63eb353aee",
   "metadata": {},
   "outputs": [],
   "source": [
    "temp =  data.toPandas()"
   ]
  },
  {
   "cell_type": "code",
   "execution_count": 7,
   "id": "1838b37f-2867-49d8-8cad-73062c848706",
   "metadata": {},
   "outputs": [
    {
     "name": "stdout",
     "output_type": "stream",
     "text": [
      "OK~!~\n"
     ]
    }
   ],
   "source": [
    "data.write.mode(\"overwrite\").parquet(\"s3a://output/bank_name.parquet\")\n",
    "print(\"OK~!~\")"
   ]
  },
  {
   "cell_type": "code",
   "execution_count": 10,
   "id": "0b0210dc-91e7-4c6f-b660-e826b558eb1b",
   "metadata": {},
   "outputs": [],
   "source": [
    "temp.to_parquet(\"data/bank_name.parquet\")"
   ]
  },
  {
   "cell_type": "code",
   "execution_count": null,
   "id": "2ba2ffe9-f7ad-46d0-a60d-8ed055183121",
   "metadata": {},
   "outputs": [],
   "source": []
  }
 ],
 "metadata": {
  "kernelspec": {
   "display_name": "Python 3 (ipykernel)",
   "language": "python",
   "name": "python3"
  },
  "language_info": {
   "codemirror_mode": {
    "name": "ipython",
    "version": 3
   },
   "file_extension": ".py",
   "mimetype": "text/x-python",
   "name": "python",
   "nbconvert_exporter": "python",
   "pygments_lexer": "ipython3",
   "version": "3.8.13"
  }
 },
 "nbformat": 4,
 "nbformat_minor": 5
}
