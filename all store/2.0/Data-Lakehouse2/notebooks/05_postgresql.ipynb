{
 "cells": [
  {
   "cell_type": "code",
   "execution_count": 1,
   "id": "a8e358dd-12b5-4ef8-8077-9fc6e5d101c6",
   "metadata": {},
   "outputs": [],
   "source": [
    "#connect postgres lib\n",
    "import psycopg2 as pc\n",
    "import sqlalchemy as sa\n",
    "#basic\n",
    "import pandas as pd"
   ]
  },
  {
   "cell_type": "code",
   "execution_count": 2,
   "id": "1fc51401-043d-4382-be14-e2edc5c9164b",
   "metadata": {},
   "outputs": [],
   "source": [
    "db = \"pp\"\n",
    "user= \"user\"\n",
    "password = \"1234\"\n",
    "host = \"192.168.212.41\"\n",
    "port = \"8887\""
   ]
  },
  {
   "cell_type": "code",
   "execution_count": 3,
   "id": "b809178c-258d-4132-a3b2-624c724a4880",
   "metadata": {},
   "outputs": [],
   "source": [
    "conn = pc.connect(database=db,user=user,password=password,host=host,port=port)\n",
    "cursor = conn.cursor()"
   ]
  },
  {
   "cell_type": "code",
   "execution_count": 4,
   "id": "66bca9c6-bd15-41ec-848c-62c09f198301",
   "metadata": {},
   "outputs": [],
   "source": [
    "cursor.execute(\"select * from pp_transaction_20230530\")\n",
    "df1 = cursor.fetchall() "
   ]
  },
  {
   "cell_type": "code",
   "execution_count": 5,
   "id": "4dbacd2d-3785-4a6d-abb3-a5e6f7300e79",
   "metadata": {},
   "outputs": [
    {
     "ename": "AttributeError",
     "evalue": "'list' object has no attribute 'type'",
     "output_type": "error",
     "traceback": [
      "\u001b[0;31m---------------------------------------------------------------------------\u001b[0m",
      "\u001b[0;31mAttributeError\u001b[0m                            Traceback (most recent call last)",
      "Cell \u001b[0;32mIn [5], line 1\u001b[0m\n\u001b[0;32m----> 1\u001b[0m \u001b[43mdf1\u001b[49m\u001b[38;5;241;43m.\u001b[39;49m\u001b[43mtype\u001b[49m()\n",
      "\u001b[0;31mAttributeError\u001b[0m: 'list' object has no attribute 'type'"
     ]
    }
   ],
   "source": [
    "df1.type()"
   ]
  },
  {
   "cell_type": "code",
   "execution_count": null,
   "id": "72d0aaea-b5a0-4e61-8095-a7bed4685630",
   "metadata": {},
   "outputs": [],
   "source": []
  }
 ],
 "metadata": {
  "kernelspec": {
   "display_name": "Python 3 (ipykernel)",
   "language": "python",
   "name": "python3"
  },
  "language_info": {
   "codemirror_mode": {
    "name": "ipython",
    "version": 3
   },
   "file_extension": ".py",
   "mimetype": "text/x-python",
   "name": "python",
   "nbconvert_exporter": "python",
   "pygments_lexer": "ipython3",
   "version": "3.8.13"
  }
 },
 "nbformat": 4,
 "nbformat_minor": 5
}
