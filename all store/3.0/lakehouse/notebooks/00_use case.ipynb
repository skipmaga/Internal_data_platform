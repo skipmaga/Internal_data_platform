{
 "cells": [
  {
   "cell_type": "code",
   "execution_count": 1,
   "id": "dd613e5f-f997-4d78-a50b-db3723471888",
   "metadata": {},
   "outputs": [],
   "source": [
    "from datetime import datetime\n",
    "from pyspark import SparkContext, HiveContext\n",
    "from pyspark.sql import SparkSession, SQLContext\n",
    "import pyspark.sql.functions as funcs\n",
    "import pandas as pd\n",
    "from pyspark.sql.functions import row_number,lit\n",
    "from pyspark.sql.window import Window\n",
    "import pyspark"
   ]
  },
  {
   "cell_type": "code",
   "execution_count": 2,
   "id": "8a560667-65ca-44fa-bf97-334288ad8031",
   "metadata": {},
   "outputs": [
    {
     "name": "stderr",
     "output_type": "stream",
     "text": [
      "/usr/local/spark/python/pyspark/sql/context.py:112: FutureWarning: Deprecated in 3.0.0. Use SparkSession.builder.getOrCreate() instead.\n",
      "  warnings.warn(\n"
     ]
    }
   ],
   "source": [
    "spark = (SparkSession.builder.appName(\"pyspark-03-{}\".format(datetime.today()))\n",
    "        .master(\"spark://spark-master:7077\")\n",
    "        .getOrCreate())\n",
    "sqlContext = SQLContext(spark)\n",
    "#spark.sparkContext.getConf().getAll()"
   ]
  },
  {
   "cell_type": "code",
   "execution_count": 3,
   "id": "8dc0ad2e-7faa-4ff8-9b78-fc5b48d3df0f",
   "metadata": {},
   "outputs": [
    {
     "data": {
      "text/html": [
       "<div>\n",
       "<style scoped>\n",
       "    .dataframe tbody tr th:only-of-type {\n",
       "        vertical-align: middle;\n",
       "    }\n",
       "\n",
       "    .dataframe tbody tr th {\n",
       "        vertical-align: top;\n",
       "    }\n",
       "\n",
       "    .dataframe thead th {\n",
       "        text-align: right;\n",
       "    }\n",
       "</style>\n",
       "<table border=\"1\" class=\"dataframe\">\n",
       "  <thead>\n",
       "    <tr style=\"text-align: right;\">\n",
       "      <th></th>\n",
       "      <th>namespace</th>\n",
       "      <th>tableName</th>\n",
       "      <th>isTemporary</th>\n",
       "    </tr>\n",
       "  </thead>\n",
       "  <tbody>\n",
       "  </tbody>\n",
       "</table>\n",
       "</div>"
      ],
      "text/plain": [
       "Empty DataFrame\n",
       "Columns: [namespace, tableName, isTemporary]\n",
       "Index: []"
      ]
     },
     "execution_count": 3,
     "metadata": {},
     "output_type": "execute_result"
    }
   ],
   "source": [
    "spark.sql(\"show tables\").toPandas()"
   ]
  },
  {
   "cell_type": "code",
   "execution_count": 4,
   "id": "32f4f15c-6ebf-49de-af9b-c5d438ce9cd7",
   "metadata": {},
   "outputs": [
    {
     "name": "stderr",
     "output_type": "stream",
     "text": [
      "/usr/local/spark/python/pyspark/sql/pandas/conversion.py:248: FutureWarning: Passing unit-less datetime64 dtype to .astype is deprecated and will raise in a future version. Pass 'datetime64[ns]' instead\n",
      "  series = series.astype(t, copy=False)\n"
     ]
    },
    {
     "data": {
      "text/html": [
       "<div>\n",
       "<style scoped>\n",
       "    .dataframe tbody tr th:only-of-type {\n",
       "        vertical-align: middle;\n",
       "    }\n",
       "\n",
       "    .dataframe tbody tr th {\n",
       "        vertical-align: top;\n",
       "    }\n",
       "\n",
       "    .dataframe thead th {\n",
       "        text-align: right;\n",
       "    }\n",
       "</style>\n",
       "<table border=\"1\" class=\"dataframe\">\n",
       "  <thead>\n",
       "    <tr style=\"text-align: right;\">\n",
       "      <th></th>\n",
       "      <th>tps</th>\n",
       "      <th>data_time</th>\n",
       "      <th>bank_send</th>\n",
       "      <th>bank_receive</th>\n",
       "      <th>proxy_type</th>\n",
       "      <th>datatype</th>\n",
       "    </tr>\n",
       "  </thead>\n",
       "  <tbody>\n",
       "    <tr>\n",
       "      <th>0</th>\n",
       "      <td>4</td>\n",
       "      <td>2023-05-30 07:20:02</td>\n",
       "      <td>KTB</td>\n",
       "      <td>SCB</td>\n",
       "      <td>NATID</td>\n",
       "      <td>TPS_SWT_LEG1_LEG2_byBANK_andPROXY</td>\n",
       "    </tr>\n",
       "    <tr>\n",
       "      <th>1</th>\n",
       "      <td>3</td>\n",
       "      <td>2023-05-30 07:20:02</td>\n",
       "      <td>TMB</td>\n",
       "      <td>SCB</td>\n",
       "      <td>ACCOUNT</td>\n",
       "      <td>TPS_SWT_LEG1_LEG2_byBANK_andPROXY</td>\n",
       "    </tr>\n",
       "    <tr>\n",
       "      <th>2</th>\n",
       "      <td>3</td>\n",
       "      <td>2023-05-30 07:20:02</td>\n",
       "      <td>UOBT</td>\n",
       "      <td>SCB</td>\n",
       "      <td>ACCOUNT</td>\n",
       "      <td>TPS_SWT_LEG1_LEG2_byBANK_andPROXY</td>\n",
       "    </tr>\n",
       "    <tr>\n",
       "      <th>3</th>\n",
       "      <td>1</td>\n",
       "      <td>2023-05-30 07:20:03</td>\n",
       "      <td>BAAC</td>\n",
       "      <td>SCB</td>\n",
       "      <td>MSISDN</td>\n",
       "      <td>TPS_SWT_LEG1_LEG2_byBANK_andPROXY</td>\n",
       "    </tr>\n",
       "    <tr>\n",
       "      <th>4</th>\n",
       "      <td>9</td>\n",
       "      <td>2023-05-30 07:20:03</td>\n",
       "      <td>BBL</td>\n",
       "      <td>SCB</td>\n",
       "      <td>ACCOUNT</td>\n",
       "      <td>TPS_SWT_LEG1_LEG2_byBANK_andPROXY</td>\n",
       "    </tr>\n",
       "    <tr>\n",
       "      <th>5</th>\n",
       "      <td>1</td>\n",
       "      <td>2023-05-30 07:20:03</td>\n",
       "      <td>BBL</td>\n",
       "      <td>SCB</td>\n",
       "      <td>MSISDN</td>\n",
       "      <td>TPS_SWT_LEG1_LEG2_byBANK_andPROXY</td>\n",
       "    </tr>\n",
       "    <tr>\n",
       "      <th>6</th>\n",
       "      <td>1</td>\n",
       "      <td>2023-05-30 07:20:03</td>\n",
       "      <td>GSB</td>\n",
       "      <td>SCB</td>\n",
       "      <td>BILLERID</td>\n",
       "      <td>TPS_SWT_LEG1_LEG2_byBANK_andPROXY</td>\n",
       "    </tr>\n",
       "    <tr>\n",
       "      <th>7</th>\n",
       "      <td>35</td>\n",
       "      <td>2023-05-30 07:20:03</td>\n",
       "      <td>KBNK</td>\n",
       "      <td>SCB</td>\n",
       "      <td>ACCOUNT</td>\n",
       "      <td>TPS_SWT_LEG1_LEG2_byBANK_andPROXY</td>\n",
       "    </tr>\n",
       "    <tr>\n",
       "      <th>8</th>\n",
       "      <td>6</td>\n",
       "      <td>2023-05-30 07:20:03</td>\n",
       "      <td>KBNK</td>\n",
       "      <td>SCB</td>\n",
       "      <td>BILLERID</td>\n",
       "      <td>TPS_SWT_LEG1_LEG2_byBANK_andPROXY</td>\n",
       "    </tr>\n",
       "    <tr>\n",
       "      <th>9</th>\n",
       "      <td>16</td>\n",
       "      <td>2023-05-30 07:20:03</td>\n",
       "      <td>KBNK</td>\n",
       "      <td>SCB</td>\n",
       "      <td>EWALLET</td>\n",
       "      <td>TPS_SWT_LEG1_LEG2_byBANK_andPROXY</td>\n",
       "    </tr>\n",
       "  </tbody>\n",
       "</table>\n",
       "</div>"
      ],
      "text/plain": [
       "   tps           data_time bank_send bank_receive proxy_type  \\\n",
       "0    4 2023-05-30 07:20:02       KTB          SCB      NATID   \n",
       "1    3 2023-05-30 07:20:02       TMB          SCB    ACCOUNT   \n",
       "2    3 2023-05-30 07:20:02      UOBT          SCB    ACCOUNT   \n",
       "3    1 2023-05-30 07:20:03      BAAC          SCB     MSISDN   \n",
       "4    9 2023-05-30 07:20:03       BBL          SCB    ACCOUNT   \n",
       "5    1 2023-05-30 07:20:03       BBL          SCB     MSISDN   \n",
       "6    1 2023-05-30 07:20:03       GSB          SCB   BILLERID   \n",
       "7   35 2023-05-30 07:20:03      KBNK          SCB    ACCOUNT   \n",
       "8    6 2023-05-30 07:20:03      KBNK          SCB   BILLERID   \n",
       "9   16 2023-05-30 07:20:03      KBNK          SCB    EWALLET   \n",
       "\n",
       "                            datatype  \n",
       "0  TPS_SWT_LEG1_LEG2_byBANK_andPROXY  \n",
       "1  TPS_SWT_LEG1_LEG2_byBANK_andPROXY  \n",
       "2  TPS_SWT_LEG1_LEG2_byBANK_andPROXY  \n",
       "3  TPS_SWT_LEG1_LEG2_byBANK_andPROXY  \n",
       "4  TPS_SWT_LEG1_LEG2_byBANK_andPROXY  \n",
       "5  TPS_SWT_LEG1_LEG2_byBANK_andPROXY  \n",
       "6  TPS_SWT_LEG1_LEG2_byBANK_andPROXY  \n",
       "7  TPS_SWT_LEG1_LEG2_byBANK_andPROXY  \n",
       "8  TPS_SWT_LEG1_LEG2_byBANK_andPROXY  \n",
       "9  TPS_SWT_LEG1_LEG2_byBANK_andPROXY  "
      ]
     },
     "execution_count": 4,
     "metadata": {},
     "output_type": "execute_result"
    }
   ],
   "source": [
    "df_orders = spark.read.format(\"parquet\").load(\"s3a://pp-transaction/pp_transaction_20230530_parquet_data.parquet\", header=True)\n",
    "df_orders.limit(10).toPandas()"
   ]
  },
  {
   "cell_type": "code",
   "execution_count": 5,
   "id": "9159bb8e-ad71-4e29-a1d5-b92c69846152",
   "metadata": {},
   "outputs": [],
   "source": [
    "df_orders = df_orders.withColumn(\"date\", funcs.to_date(\"data_time\"))\n",
    "(\n",
    "df_orders.write.mode(\"overwrite\")\n",
    "    .partitionBy(\"date\")\n",
    "    .option(\"compression\", \"snappy\")\n",
    "    .option(\"path\", \"s3a://warehouse/pp_transaction.delta\")\n",
    "    .format(\"delta\")\n",
    "    .saveAsTable(\"pp_transaction\")\n",
    ")"
   ]
  },
  {
   "cell_type": "code",
   "execution_count": 6,
   "id": "f2a70fe5-d765-4a1e-aa6c-2c388fd6b136",
   "metadata": {},
   "outputs": [
    {
     "data": {
      "text/html": [
       "<div>\n",
       "<style scoped>\n",
       "    .dataframe tbody tr th:only-of-type {\n",
       "        vertical-align: middle;\n",
       "    }\n",
       "\n",
       "    .dataframe tbody tr th {\n",
       "        vertical-align: top;\n",
       "    }\n",
       "\n",
       "    .dataframe thead th {\n",
       "        text-align: right;\n",
       "    }\n",
       "</style>\n",
       "<table border=\"1\" class=\"dataframe\">\n",
       "  <thead>\n",
       "    <tr style=\"text-align: right;\">\n",
       "      <th></th>\n",
       "      <th>namespace</th>\n",
       "    </tr>\n",
       "  </thead>\n",
       "  <tbody>\n",
       "    <tr>\n",
       "      <th>0</th>\n",
       "      <td>default</td>\n",
       "    </tr>\n",
       "  </tbody>\n",
       "</table>\n",
       "</div>"
      ],
      "text/plain": [
       "  namespace\n",
       "0   default"
      ]
     },
     "execution_count": 6,
     "metadata": {},
     "output_type": "execute_result"
    }
   ],
   "source": [
    "spark.sql(\"show databases\").toPandas()"
   ]
  },
  {
   "cell_type": "code",
   "execution_count": 7,
   "id": "b5856d73-1594-41d4-ac3c-3c452059d452",
   "metadata": {},
   "outputs": [
    {
     "data": {
      "text/html": [
       "<div>\n",
       "<style scoped>\n",
       "    .dataframe tbody tr th:only-of-type {\n",
       "        vertical-align: middle;\n",
       "    }\n",
       "\n",
       "    .dataframe tbody tr th {\n",
       "        vertical-align: top;\n",
       "    }\n",
       "\n",
       "    .dataframe thead th {\n",
       "        text-align: right;\n",
       "    }\n",
       "</style>\n",
       "<table border=\"1\" class=\"dataframe\">\n",
       "  <thead>\n",
       "    <tr style=\"text-align: right;\">\n",
       "      <th></th>\n",
       "      <th>namespace</th>\n",
       "      <th>tableName</th>\n",
       "      <th>isTemporary</th>\n",
       "    </tr>\n",
       "  </thead>\n",
       "  <tbody>\n",
       "    <tr>\n",
       "      <th>0</th>\n",
       "      <td>default</td>\n",
       "      <td>pp_transaction</td>\n",
       "      <td>False</td>\n",
       "    </tr>\n",
       "  </tbody>\n",
       "</table>\n",
       "</div>"
      ],
      "text/plain": [
       "  namespace       tableName  isTemporary\n",
       "0   default  pp_transaction        False"
      ]
     },
     "execution_count": 7,
     "metadata": {},
     "output_type": "execute_result"
    }
   ],
   "source": [
    "spark.sql(\"show tables\").toPandas()"
   ]
  },
  {
   "cell_type": "code",
   "execution_count": 8,
   "id": "6aebd400-80a9-48d8-91f5-0574fd8c351d",
   "metadata": {},
   "outputs": [
    {
     "name": "stdout",
     "output_type": "stream",
     "text": [
      "8763175\n"
     ]
    }
   ],
   "source": [
    "pp = spark.sql(\"SELECT * FROM pp_transaction\")\n",
    "print(pp.count())"
   ]
  },
  {
   "cell_type": "code",
   "execution_count": 9,
   "id": "3fc6407c-7585-4a57-8fed-4a887e990dc9",
   "metadata": {},
   "outputs": [
    {
     "name": "stdout",
     "output_type": "stream",
     "text": [
      "+---+-------------------+---------+------------+----------+--------------------+----------+\n",
      "|tps|          data_time|bank_send|bank_receive|proxy_type|            datatype|      date|\n",
      "+---+-------------------+---------+------------+----------+--------------------+----------+\n",
      "|  4|2023-05-30 07:20:02|      KTB|         SCB|     NATID|TPS_SWT_LEG1_LEG2...|2023-05-30|\n",
      "| 70|2023-05-30 10:22:24|      SCB|        KBNK|   ACCOUNT|TPS_SWT_LEG1_LEG2...|2023-05-30|\n",
      "|  3|2023-05-30 07:20:02|      TMB|         SCB|   ACCOUNT|TPS_SWT_LEG1_LEG2...|2023-05-30|\n",
      "|  2|2023-05-30 10:22:24|      SCB|        KBNK|   EWALLET|TPS_SWT_LEG1_LEG2...|2023-05-30|\n",
      "|  3|2023-05-30 07:20:02|     UOBT|         SCB|   ACCOUNT|TPS_SWT_LEG1_LEG2...|2023-05-30|\n",
      "+---+-------------------+---------+------------+----------+--------------------+----------+\n",
      "\n"
     ]
    }
   ],
   "source": [
    "pp.limit(5).show()"
   ]
  },
  {
   "cell_type": "code",
   "execution_count": 10,
   "id": "c5656417-61a2-4cf8-b0ec-2a0d1a2dd201",
   "metadata": {},
   "outputs": [],
   "source": [
    "#df_orders1 = spark.read.format(\"parquet\").load(\"s3a://pp-transaction/pp_transaction_20230531_parquet_data.parquet\", header=True)\n",
    "#df_orders1.limit(5).toPandas()"
   ]
  },
  {
   "cell_type": "code",
   "execution_count": 11,
   "id": "9992a9cf-8c73-4003-be33-3740cc7ac882",
   "metadata": {},
   "outputs": [],
   "source": [
    "#df_orders1 = df_orders1.withColumn(\"date\", funcs.to_date(\"data_time\"))\n",
    "#(\n",
    "#df_orders1.write.mode(\"append\")\n",
    "#    .option(\"compression\", \"snappy\")\n",
    "#    .option(\"path\", \"s3a://warehouse/pp_transaction.delta\")\n",
    "#    .format(\"delta\")\n",
    "#    .saveAsTable(\"pp_transaction\")\n",
    "#)"
   ]
  },
  {
   "cell_type": "code",
   "execution_count": 12,
   "id": "d6682922-2491-421f-8df5-47fbd81cb7a4",
   "metadata": {},
   "outputs": [],
   "source": [
    "#pp = spark.sql(\"SELECT * FROM pp_transaction\")\n",
    "#print(pp.count())"
   ]
  },
  {
   "cell_type": "markdown",
   "id": "a17b5f36-7ba8-4d9b-b587-231e978d26bc",
   "metadata": {
    "tags": []
   },
   "source": [
    "# Use case 1 check dup and check null data"
   ]
  },
  {
   "cell_type": "code",
   "execution_count": 13,
   "id": "2ab87d84-5e09-4ed1-b1ef-afcbb5041693",
   "metadata": {},
   "outputs": [],
   "source": [
    "temp = spark.sql(\"SELECT * FROM pp_transaction\")\n",
    "temp = temp.withColumn(\"date\", funcs.to_date(\"data_time\"))\n",
    "(\n",
    "temp.write.mode(\"overwrite\")\n",
    "    .partitionBy(\"date\")\n",
    "    .option(\"compression\", \"snappy\")\n",
    "    .option(\"path\", \"s3a://warehouse/use_case.delta\")\n",
    "    .format(\"delta\")\n",
    "    .saveAsTable(\"use_case\")\n",
    ")"
   ]
  },
  {
   "cell_type": "code",
   "execution_count": 14,
   "id": "956ee69d-73aa-4535-8ea2-95cba3b71986",
   "metadata": {},
   "outputs": [
    {
     "data": {
      "text/html": [
       "<div>\n",
       "<style scoped>\n",
       "    .dataframe tbody tr th:only-of-type {\n",
       "        vertical-align: middle;\n",
       "    }\n",
       "\n",
       "    .dataframe tbody tr th {\n",
       "        vertical-align: top;\n",
       "    }\n",
       "\n",
       "    .dataframe thead th {\n",
       "        text-align: right;\n",
       "    }\n",
       "</style>\n",
       "<table border=\"1\" class=\"dataframe\">\n",
       "  <thead>\n",
       "    <tr style=\"text-align: right;\">\n",
       "      <th></th>\n",
       "      <th>namespace</th>\n",
       "      <th>tableName</th>\n",
       "      <th>isTemporary</th>\n",
       "    </tr>\n",
       "  </thead>\n",
       "  <tbody>\n",
       "    <tr>\n",
       "      <th>0</th>\n",
       "      <td>default</td>\n",
       "      <td>pp_transaction</td>\n",
       "      <td>False</td>\n",
       "    </tr>\n",
       "    <tr>\n",
       "      <th>1</th>\n",
       "      <td>default</td>\n",
       "      <td>use_case</td>\n",
       "      <td>False</td>\n",
       "    </tr>\n",
       "  </tbody>\n",
       "</table>\n",
       "</div>"
      ],
      "text/plain": [
       "  namespace       tableName  isTemporary\n",
       "0   default  pp_transaction        False\n",
       "1   default        use_case        False"
      ]
     },
     "execution_count": 14,
     "metadata": {},
     "output_type": "execute_result"
    }
   ],
   "source": [
    "spark.sql(\"show tables\").toPandas()"
   ]
  },
  {
   "cell_type": "code",
   "execution_count": 15,
   "id": "03e4fa86-c149-4a8d-8635-0f452132572a",
   "metadata": {},
   "outputs": [
    {
     "name": "stdout",
     "output_type": "stream",
     "text": [
      "8763175\n"
     ]
    }
   ],
   "source": [
    "use_case = spark.sql(\"SELECT * FROM use_case\")\n",
    "print(use_case.count())"
   ]
  },
  {
   "cell_type": "code",
   "execution_count": 16,
   "id": "d3efe248-2438-44b2-b580-e26b8dc41d3e",
   "metadata": {},
   "outputs": [
    {
     "name": "stdout",
     "output_type": "stream",
     "text": [
      "0\n"
     ]
    }
   ],
   "source": [
    "dup = use_case.groupBy(use_case.columns).count().where(funcs.col('count') > 1)\n",
    "print(dup.count())"
   ]
  },
  {
   "cell_type": "code",
   "execution_count": 17,
   "id": "3825e593-1756-423b-bf12-4fe504d8f306",
   "metadata": {},
   "outputs": [],
   "source": [
    "dup1 = spark.sql(\"\"\"SELECT COUNT(*) AS duplicate_count\n",
    "FROM (\n",
    "  SELECT *\n",
    "  FROM use_case\n",
    "  GROUP BY tps,data_time,bank_send,bank_receive,proxy_type,datatype,date\n",
    "  HAVING COUNT(*) > 1\n",
    ") AS duplicates;\n",
    "\"\"\")"
   ]
  },
  {
   "cell_type": "code",
   "execution_count": 18,
   "id": "5990dbd9-e4a4-4ca1-a6d6-8a6317e25c00",
   "metadata": {},
   "outputs": [
    {
     "name": "stdout",
     "output_type": "stream",
     "text": [
      "1\n"
     ]
    }
   ],
   "source": [
    "print(dup1.count())"
   ]
  },
  {
   "cell_type": "code",
   "execution_count": 19,
   "id": "f4515caa-f2c5-492a-922b-d031d9a8e968",
   "metadata": {},
   "outputs": [
    {
     "name": "stdout",
     "output_type": "stream",
     "text": [
      "0\n"
     ]
    }
   ],
   "source": [
    "use_case1 = spark.sql(\"SELECT * FROM use_case WHERE data_time IS NULL OR tps IS NULL OR bank_send IS NULL OR bank_receive IS NULL OR proxy_type IS NULL OR datatype IS NULL\")\n",
    "print(use_case1.count())"
   ]
  },
  {
   "cell_type": "markdown",
   "id": "15a0b1d9-c4d5-41c8-9cef-451443ccd28d",
   "metadata": {},
   "source": [
    "# use case 2 create table for bank and join to transaction table"
   ]
  },
  {
   "cell_type": "code",
   "execution_count": 20,
   "id": "63c66b33-1805-4bcf-9b86-df33663ad782",
   "metadata": {},
   "outputs": [],
   "source": [
    "bank_name = spark.sql(\"SELECT DISTINCT bank_send FROM use_case\")\n",
    "bn = bank_name.toPandas()"
   ]
  },
  {
   "cell_type": "code",
   "execution_count": 21,
   "id": "bf8da91d-f0b8-4849-80b6-9a3410e35a2b",
   "metadata": {},
   "outputs": [],
   "source": [
    "w = Window().orderBy(lit(\"A\"))\n",
    "bank_name = bank_name.withColumn(\"id\",row_number().over(w))"
   ]
  },
  {
   "cell_type": "code",
   "execution_count": 22,
   "id": "13000d4e-203c-4d1d-a9bc-c7d6d780266f",
   "metadata": {},
   "outputs": [],
   "source": [
    "(\n",
    "bank_name.write.mode(\"overwrite\")\n",
    "    .option(\"compression\", \"snappy\")\n",
    "    .option(\"path\", \"s3a://warehouse/bank_name.delta\")\n",
    "    .format(\"delta\")\n",
    "    .saveAsTable(\"bank_name\")\n",
    ")"
   ]
  },
  {
   "cell_type": "code",
   "execution_count": 23,
   "id": "7eda450b-8983-4ba0-b01f-38b78ed57a63",
   "metadata": {},
   "outputs": [],
   "source": [
    "use_case2 = spark.sql(\"SELECT * FROM pp_transaction\")\n",
    "use_case2 = use_case2.withColumn(\"date\", funcs.to_date(\"data_time\"))\n",
    "(\n",
    "use_case2.write.mode(\"overwrite\")\n",
    "    .partitionBy(\"date\")\n",
    "    .option(\"compression\", \"snappy\")\n",
    "    .option(\"path\", \"s3a://warehouse/use_case2.delta\")\n",
    "    .format(\"delta\")\n",
    "    .saveAsTable(\"use_case2\")\n",
    ")"
   ]
  },
  {
   "cell_type": "code",
   "execution_count": 24,
   "id": "8316b85f-0a7c-4418-b510-6231d138f4b3",
   "metadata": {},
   "outputs": [
    {
     "data": {
      "text/html": [
       "<div>\n",
       "<style scoped>\n",
       "    .dataframe tbody tr th:only-of-type {\n",
       "        vertical-align: middle;\n",
       "    }\n",
       "\n",
       "    .dataframe tbody tr th {\n",
       "        vertical-align: top;\n",
       "    }\n",
       "\n",
       "    .dataframe thead th {\n",
       "        text-align: right;\n",
       "    }\n",
       "</style>\n",
       "<table border=\"1\" class=\"dataframe\">\n",
       "  <thead>\n",
       "    <tr style=\"text-align: right;\">\n",
       "      <th></th>\n",
       "      <th>namespace</th>\n",
       "      <th>tableName</th>\n",
       "      <th>isTemporary</th>\n",
       "    </tr>\n",
       "  </thead>\n",
       "  <tbody>\n",
       "    <tr>\n",
       "      <th>0</th>\n",
       "      <td>default</td>\n",
       "      <td>bank_name</td>\n",
       "      <td>False</td>\n",
       "    </tr>\n",
       "    <tr>\n",
       "      <th>1</th>\n",
       "      <td>default</td>\n",
       "      <td>pp_transaction</td>\n",
       "      <td>False</td>\n",
       "    </tr>\n",
       "    <tr>\n",
       "      <th>2</th>\n",
       "      <td>default</td>\n",
       "      <td>use_case</td>\n",
       "      <td>False</td>\n",
       "    </tr>\n",
       "    <tr>\n",
       "      <th>3</th>\n",
       "      <td>default</td>\n",
       "      <td>use_case2</td>\n",
       "      <td>False</td>\n",
       "    </tr>\n",
       "  </tbody>\n",
       "</table>\n",
       "</div>"
      ],
      "text/plain": [
       "  namespace       tableName  isTemporary\n",
       "0   default       bank_name        False\n",
       "1   default  pp_transaction        False\n",
       "2   default        use_case        False\n",
       "3   default       use_case2        False"
      ]
     },
     "execution_count": 24,
     "metadata": {},
     "output_type": "execute_result"
    }
   ],
   "source": [
    "spark.sql(\"show tables\").toPandas()"
   ]
  },
  {
   "cell_type": "code",
   "execution_count": 25,
   "id": "b18b49af-7818-4438-b743-ae83f5d831c0",
   "metadata": {},
   "outputs": [],
   "source": [
    "bank_name_df = spark.sql(\"SELECT * FROM bank_name\")\n",
    "use_case2_1 = spark.sql(\"SELECT * FROM use_case2\")"
   ]
  },
  {
   "cell_type": "code",
   "execution_count": 26,
   "id": "c5ecb23a-e66a-4644-a794-f3d820d8294e",
   "metadata": {},
   "outputs": [],
   "source": [
    "temp = use_case2_1.join(bank_name_df,use_case2_1.bank_send == bank_name_df.bank_send).select(use_case2_1[\"*\"],bank_name_df[\"id\"])"
   ]
  },
  {
   "cell_type": "code",
   "execution_count": 27,
   "id": "0871dfff-8fda-4c36-a1c9-969e0c49c316",
   "metadata": {},
   "outputs": [
    {
     "name": "stdout",
     "output_type": "stream",
     "text": [
      "+---+-------------------+---------+------------+----------+--------------------+----------+---+\n",
      "|tps|          data_time|bank_send|bank_receive|proxy_type|            datatype|      date| id|\n",
      "+---+-------------------+---------+------------+----------+--------------------+----------+---+\n",
      "| 15|2023-05-30 19:09:32|      GSB|         SCB|   ACCOUNT|TPS_SWT_LEG1_LEG2...|2023-05-30|  3|\n",
      "|  1|2023-05-30 17:59:12|      BBL|        KBNK|     NATID|TPS_SWT_LEG1_LEG2...|2023-05-30| 13|\n",
      "|  2|2023-05-30 15:36:20|     BAAC|        KBNK|   ACCOUNT|TPS_SWT_LEG1_LEG2...|2023-05-30| 26|\n",
      "|  2|2023-05-30 20:21:05|      BAY|         KTB|    MSISDN|TPS_SWT_LEG1_LEG2...|2023-05-30| 16|\n",
      "|  1|2023-05-30 19:09:32|      GSB|         SCB|  BILLERID|TPS_SWT_LEG1_LEG2...|2023-05-30|  3|\n",
      "+---+-------------------+---------+------------+----------+--------------------+----------+---+\n",
      "\n"
     ]
    }
   ],
   "source": [
    "temp.limit(5).show()"
   ]
  },
  {
   "cell_type": "code",
   "execution_count": 28,
   "id": "0a70dd51-3f0b-4699-8a59-339b988113f6",
   "metadata": {},
   "outputs": [
    {
     "name": "stdout",
     "output_type": "stream",
     "text": [
      "root\n",
      " |-- tps: long (nullable = true)\n",
      " |-- data_time: timestamp (nullable = true)\n",
      " |-- bank_send: string (nullable = true)\n",
      " |-- bank_receive: string (nullable = true)\n",
      " |-- proxy_type: string (nullable = true)\n",
      " |-- datatype: string (nullable = true)\n",
      " |-- date: date (nullable = true)\n",
      " |-- id: integer (nullable = true)\n",
      "\n"
     ]
    }
   ],
   "source": [
    "temp.printSchema()"
   ]
  },
  {
   "cell_type": "code",
   "execution_count": 29,
   "id": "20c40026-94a0-4890-b3bb-40ee6c631424",
   "metadata": {},
   "outputs": [
    {
     "name": "stdout",
     "output_type": "stream",
     "text": [
      "root\n",
      " |-- tps: long (nullable = true)\n",
      " |-- data_time: timestamp (nullable = true)\n",
      " |-- bank_send: string (nullable = true)\n",
      " |-- bank_receive: string (nullable = true)\n",
      " |-- proxy_type: string (nullable = true)\n",
      " |-- datatype: string (nullable = true)\n",
      " |-- date: date (nullable = true)\n",
      "\n"
     ]
    }
   ],
   "source": [
    "use_case2_1.printSchema()"
   ]
  },
  {
   "cell_type": "code",
   "execution_count": 30,
   "id": "36731701-a219-4c9b-b6c0-4ed5f9327813",
   "metadata": {},
   "outputs": [],
   "source": [
    "(\n",
    "temp.write.mode(\"overwrite\")\n",
    "    .option(\"overwriteSchema\", \"True\")\n",
    "    .option(\"compression\", \"snappy\")\n",
    "    .option(\"path\", \"s3a://warehouse/use_case2.delta\")\n",
    "    .partitionBy(\"date\")\n",
    "    .format(\"delta\")\n",
    "    .saveAsTable(\"use_case2\")\n",
    ")"
   ]
  },
  {
   "cell_type": "code",
   "execution_count": 31,
   "id": "0ce7cafc-c490-47d1-8653-48dad8041602",
   "metadata": {},
   "outputs": [
    {
     "data": {
      "text/html": [
       "<div>\n",
       "<style scoped>\n",
       "    .dataframe tbody tr th:only-of-type {\n",
       "        vertical-align: middle;\n",
       "    }\n",
       "\n",
       "    .dataframe tbody tr th {\n",
       "        vertical-align: top;\n",
       "    }\n",
       "\n",
       "    .dataframe thead th {\n",
       "        text-align: right;\n",
       "    }\n",
       "</style>\n",
       "<table border=\"1\" class=\"dataframe\">\n",
       "  <thead>\n",
       "    <tr style=\"text-align: right;\">\n",
       "      <th></th>\n",
       "      <th>namespace</th>\n",
       "      <th>tableName</th>\n",
       "      <th>isTemporary</th>\n",
       "    </tr>\n",
       "  </thead>\n",
       "  <tbody>\n",
       "    <tr>\n",
       "      <th>0</th>\n",
       "      <td>default</td>\n",
       "      <td>bank_name</td>\n",
       "      <td>False</td>\n",
       "    </tr>\n",
       "    <tr>\n",
       "      <th>1</th>\n",
       "      <td>default</td>\n",
       "      <td>pp_transaction</td>\n",
       "      <td>False</td>\n",
       "    </tr>\n",
       "    <tr>\n",
       "      <th>2</th>\n",
       "      <td>default</td>\n",
       "      <td>use_case</td>\n",
       "      <td>False</td>\n",
       "    </tr>\n",
       "    <tr>\n",
       "      <th>3</th>\n",
       "      <td>default</td>\n",
       "      <td>use_case2</td>\n",
       "      <td>False</td>\n",
       "    </tr>\n",
       "  </tbody>\n",
       "</table>\n",
       "</div>"
      ],
      "text/plain": [
       "  namespace       tableName  isTemporary\n",
       "0   default       bank_name        False\n",
       "1   default  pp_transaction        False\n",
       "2   default        use_case        False\n",
       "3   default       use_case2        False"
      ]
     },
     "execution_count": 31,
     "metadata": {},
     "output_type": "execute_result"
    }
   ],
   "source": [
    "spark.sql(\"show tables\").toPandas()"
   ]
  },
  {
   "cell_type": "code",
   "execution_count": 32,
   "id": "b0039a88-b3ff-4daf-a7b1-0acd91e6f0cc",
   "metadata": {},
   "outputs": [
    {
     "name": "stdout",
     "output_type": "stream",
     "text": [
      "+---+-------------------+---------+------------+----------+--------------------+----------+---+\n",
      "|tps|          data_time|bank_send|bank_receive|proxy_type|            datatype|      date| id|\n",
      "+---+-------------------+---------+------------+----------+--------------------+----------+---+\n",
      "| 15|2023-05-30 19:09:32|      GSB|         SCB|   ACCOUNT|TPS_SWT_LEG1_LEG2...|2023-05-30|  3|\n",
      "|  6|2023-05-30 22:24:37|      KTB|        KBNK|    MSISDN|TPS_SWT_LEG1_LEG2...|2023-05-30| 15|\n",
      "|  1|2023-05-30 17:59:12|      BBL|        KBNK|     NATID|TPS_SWT_LEG1_LEG2...|2023-05-30| 13|\n",
      "|  2|2023-05-30 13:34:16|      SCB|         GSB|    MSISDN|TPS_SWT_LEG1_LEG2...|2023-05-30|  5|\n",
      "|  2|2023-05-30 15:36:20|     BAAC|        KBNK|   ACCOUNT|TPS_SWT_LEG1_LEG2...|2023-05-30| 26|\n",
      "+---+-------------------+---------+------------+----------+--------------------+----------+---+\n",
      "\n"
     ]
    }
   ],
   "source": [
    "use_case2_2 = spark.sql(\"SELECT * FROM use_case2\")\n",
    "use_case2_2.limit(5).show()"
   ]
  },
  {
   "cell_type": "markdown",
   "id": "34952f2e-39d9-46c6-b4c1-b622526e28ae",
   "metadata": {},
   "source": [
    "# 3.create new table from dedup and drop null from old table"
   ]
  },
  {
   "cell_type": "code",
   "execution_count": 33,
   "id": "3d99976d-1e48-4756-916d-515dfc18366d",
   "metadata": {},
   "outputs": [],
   "source": [
    "use_case3 = spark.sql(\"\"\"SELECT \n",
    "DISTINCT tps, data_time, bank_send, bank_receive, proxy_type, datatype, date FROM pp_transaction\n",
    "WHERE tps IS NOT NULL AND data_time IS NOT NULL AND bank_send IS NOT NULL AND \n",
    "bank_receive IS NOT NULL AND proxy_type IS NOT NULL AND datatype IS NOT NULL\"\"\")\n"
   ]
  },
  {
   "cell_type": "code",
   "execution_count": 34,
   "id": "6080bb58-fb72-44a3-8fc2-ba497a82c9d2",
   "metadata": {},
   "outputs": [
    {
     "name": "stdout",
     "output_type": "stream",
     "text": [
      "+---+-------------------+---------+------------+----------+--------------------+----------+\n",
      "|tps|          data_time|bank_send|bank_receive|proxy_type|            datatype|      date|\n",
      "+---+-------------------+---------+------------+----------+--------------------+----------+\n",
      "|  1|2023-05-30 07:00:00|     BAAC|         BBL|   ACCOUNT|TPS_SWT_LEG1_LEG2...|2023-05-30|\n",
      "|  1|2023-05-30 07:00:00|     BAAC|         KTB|    MSISDN|TPS_SWT_LEG1_LEG2...|2023-05-30|\n",
      "|  1|2023-05-30 07:00:00|      BAY|        KBNK|    MSISDN|TPS_SWT_LEG1_LEG2...|2023-05-30|\n",
      "|  1|2023-05-30 07:00:00|      BBL|         KTB|     NATID|TPS_SWT_LEG1_LEG2...|2023-05-30|\n",
      "|  1|2023-05-30 07:00:00|      BBL|         SCB|     NATID|TPS_SWT_LEG1_LEG2...|2023-05-30|\n",
      "+---+-------------------+---------+------------+----------+--------------------+----------+\n",
      "\n"
     ]
    }
   ],
   "source": [
    "use_case3.limit(5).show()"
   ]
  },
  {
   "cell_type": "markdown",
   "id": "365af45a-c098-42ed-a7a6-4cd09cd1d2f0",
   "metadata": {},
   "source": [
    "# 4. compare old and new table"
   ]
  },
  {
   "cell_type": "code",
   "execution_count": 35,
   "id": "da196a0f-940c-495e-82da-339b7b828708",
   "metadata": {},
   "outputs": [],
   "source": [
    "use_case3_1 = spark.sql(\"SELECT * FROM pp_transaction\")"
   ]
  },
  {
   "cell_type": "code",
   "execution_count": 36,
   "id": "c4aa1721-2191-4ee7-9ba0-176eb7c13fea",
   "metadata": {},
   "outputs": [
    {
     "name": "stdout",
     "output_type": "stream",
     "text": [
      "+---+-------------------+---------+------------+----------+--------------------+----------+\n",
      "|tps|          data_time|bank_send|bank_receive|proxy_type|            datatype|      date|\n",
      "+---+-------------------+---------+------------+----------+--------------------+----------+\n",
      "|  4|2023-05-30 07:20:02|      KTB|         SCB|     NATID|TPS_SWT_LEG1_LEG2...|2023-05-30|\n",
      "| 70|2023-05-30 10:22:24|      SCB|        KBNK|   ACCOUNT|TPS_SWT_LEG1_LEG2...|2023-05-30|\n",
      "|  3|2023-05-30 07:20:02|      TMB|         SCB|   ACCOUNT|TPS_SWT_LEG1_LEG2...|2023-05-30|\n",
      "|  2|2023-05-30 10:22:24|      SCB|        KBNK|   EWALLET|TPS_SWT_LEG1_LEG2...|2023-05-30|\n",
      "|  3|2023-05-30 07:20:02|     UOBT|         SCB|   ACCOUNT|TPS_SWT_LEG1_LEG2...|2023-05-30|\n",
      "+---+-------------------+---------+------------+----------+--------------------+----------+\n",
      "\n"
     ]
    }
   ],
   "source": [
    "use_case3_1.limit(5).show()"
   ]
  },
  {
   "cell_type": "code",
   "execution_count": 37,
   "id": "72fc0e2b-9a95-486c-a950-f13a6c484632",
   "metadata": {},
   "outputs": [
    {
     "name": "stdout",
     "output_type": "stream",
     "text": [
      "8763175\n",
      "8763175\n"
     ]
    }
   ],
   "source": [
    "print(use_case3.count())\n",
    "print(use_case3_1.count())"
   ]
  },
  {
   "cell_type": "code",
   "execution_count": 38,
   "id": "99a5b757-0f44-4fc8-83b6-00dcbf9193e2",
   "metadata": {},
   "outputs": [
    {
     "name": "stdout",
     "output_type": "stream",
     "text": [
      "+-------+-----------------+---------+------------+----------+--------------------+\n",
      "|summary|              tps|bank_send|bank_receive|proxy_type|            datatype|\n",
      "+-------+-----------------+---------+------------+----------+--------------------+\n",
      "|  count|          8763175|  8763175|     8763175|   8763175|             8763175|\n",
      "|   mean|5.363574731761034|     null|        null|      null|                null|\n",
      "| stddev|9.111288017508775|     null|        null|      null|                null|\n",
      "|    min|                1|     BAAC|        BAAC|   ACCOUNT|TPS_SWT_LEG1_LEG2...|\n",
      "|    25%|                1|     null|        null|      null|                null|\n",
      "|    50%|                2|     null|        null|      null|                null|\n",
      "|    75%|                6|     null|        null|      null|                null|\n",
      "|    max|              169|     UOBT|        UOBT|     NATID|TPS_SWT_LEG1_LEG2...|\n",
      "+-------+-----------------+---------+------------+----------+--------------------+\n",
      "\n"
     ]
    }
   ],
   "source": [
    "use_case3.summary().show()"
   ]
  },
  {
   "cell_type": "code",
   "execution_count": 39,
   "id": "03b9fb33-9506-44d7-bb57-cbfbd4aaef14",
   "metadata": {},
   "outputs": [
    {
     "name": "stdout",
     "output_type": "stream",
     "text": [
      "+-------+-----------------+---------+------------+----------+--------------------+\n",
      "|summary|              tps|bank_send|bank_receive|proxy_type|            datatype|\n",
      "+-------+-----------------+---------+------------+----------+--------------------+\n",
      "|  count|          8763175|  8763175|     8763175|   8763175|             8763175|\n",
      "|   mean|5.363574731761034|     null|        null|      null|                null|\n",
      "| stddev|9.111288017508743|     null|        null|      null|                null|\n",
      "|    min|                1|     BAAC|        BAAC|   ACCOUNT|TPS_SWT_LEG1_LEG2...|\n",
      "|    25%|                1|     null|        null|      null|                null|\n",
      "|    50%|                2|     null|        null|      null|                null|\n",
      "|    75%|                6|     null|        null|      null|                null|\n",
      "|    max|              169|     UOBT|        UOBT|     NATID|TPS_SWT_LEG1_LEG2...|\n",
      "+-------+-----------------+---------+------------+----------+--------------------+\n",
      "\n"
     ]
    }
   ],
   "source": [
    "use_case3_1.summary().show()"
   ]
  },
  {
   "cell_type": "code",
   "execution_count": 40,
   "id": "437742aa-41d3-4ce0-a73a-65a4dbbe797d",
   "metadata": {},
   "outputs": [
    {
     "name": "stdout",
     "output_type": "stream",
     "text": [
      "+---+---------+---------+------------+----------+--------+----+\n",
      "|tps|data_time|bank_send|bank_receive|proxy_type|datatype|date|\n",
      "+---+---------+---------+------------+----------+--------+----+\n",
      "+---+---------+---------+------------+----------+--------+----+\n",
      "\n"
     ]
    }
   ],
   "source": [
    "use_case3.exceptAll(use_case3_1).show()"
   ]
  },
  {
   "cell_type": "code",
   "execution_count": 41,
   "id": "45ab1ee9-deb1-4699-b714-328615efb7f7",
   "metadata": {},
   "outputs": [
    {
     "data": {
      "text/html": [
       "<div>\n",
       "<style scoped>\n",
       "    .dataframe tbody tr th:only-of-type {\n",
       "        vertical-align: middle;\n",
       "    }\n",
       "\n",
       "    .dataframe tbody tr th {\n",
       "        vertical-align: top;\n",
       "    }\n",
       "\n",
       "    .dataframe thead th {\n",
       "        text-align: right;\n",
       "    }\n",
       "</style>\n",
       "<table border=\"1\" class=\"dataframe\">\n",
       "  <thead>\n",
       "    <tr style=\"text-align: right;\">\n",
       "      <th></th>\n",
       "      <th>namespace</th>\n",
       "      <th>tableName</th>\n",
       "      <th>isTemporary</th>\n",
       "    </tr>\n",
       "  </thead>\n",
       "  <tbody>\n",
       "    <tr>\n",
       "      <th>0</th>\n",
       "      <td>default</td>\n",
       "      <td>bank_name</td>\n",
       "      <td>False</td>\n",
       "    </tr>\n",
       "    <tr>\n",
       "      <th>1</th>\n",
       "      <td>default</td>\n",
       "      <td>pp_transaction</td>\n",
       "      <td>False</td>\n",
       "    </tr>\n",
       "    <tr>\n",
       "      <th>2</th>\n",
       "      <td>default</td>\n",
       "      <td>use_case</td>\n",
       "      <td>False</td>\n",
       "    </tr>\n",
       "    <tr>\n",
       "      <th>3</th>\n",
       "      <td>default</td>\n",
       "      <td>use_case2</td>\n",
       "      <td>False</td>\n",
       "    </tr>\n",
       "  </tbody>\n",
       "</table>\n",
       "</div>"
      ],
      "text/plain": [
       "  namespace       tableName  isTemporary\n",
       "0   default       bank_name        False\n",
       "1   default  pp_transaction        False\n",
       "2   default        use_case        False\n",
       "3   default       use_case2        False"
      ]
     },
     "execution_count": 41,
     "metadata": {},
     "output_type": "execute_result"
    }
   ],
   "source": [
    "spark.sql(\"show tables\").toPandas()"
   ]
  },
  {
   "cell_type": "code",
   "execution_count": 42,
   "id": "01bb939e-b130-45d7-8376-564d2455c9bc",
   "metadata": {},
   "outputs": [],
   "source": [
    "data_transform = spark.sql(\"SELECT * FROM pp_transaction\")"
   ]
  },
  {
   "cell_type": "code",
   "execution_count": 43,
   "id": "512bcf5b-117f-409c-8ebb-8a73cf93ef03",
   "metadata": {},
   "outputs": [
    {
     "name": "stdout",
     "output_type": "stream",
     "text": [
      "+---+-------------------+---------+------------+----------+--------------------+----------+\n",
      "|tps|          data_time|bank_send|bank_receive|proxy_type|            datatype|      date|\n",
      "+---+-------------------+---------+------------+----------+--------------------+----------+\n",
      "|  4|2023-05-30 07:20:02|      KTB|         SCB|     NATID|TPS_SWT_LEG1_LEG2...|2023-05-30|\n",
      "| 70|2023-05-30 10:22:24|      SCB|        KBNK|   ACCOUNT|TPS_SWT_LEG1_LEG2...|2023-05-30|\n",
      "|  3|2023-05-30 07:20:02|      TMB|         SCB|   ACCOUNT|TPS_SWT_LEG1_LEG2...|2023-05-30|\n",
      "|  2|2023-05-30 10:22:24|      SCB|        KBNK|   EWALLET|TPS_SWT_LEG1_LEG2...|2023-05-30|\n",
      "|  3|2023-05-30 07:20:02|     UOBT|         SCB|   ACCOUNT|TPS_SWT_LEG1_LEG2...|2023-05-30|\n",
      "+---+-------------------+---------+------------+----------+--------------------+----------+\n",
      "\n"
     ]
    }
   ],
   "source": [
    "data_transform.limit(5).show()"
   ]
  },
  {
   "cell_type": "code",
   "execution_count": 44,
   "id": "7b8fbe71-b828-49c0-bdf7-ab9f4ac8e525",
   "metadata": {},
   "outputs": [],
   "source": [
    "data_transform = data_transform.withColumn(\"year\", funcs.year(\"data_time\"))\n",
    "data_transform = data_transform.withColumn(\"month\", funcs.month(\"data_time\"))\n",
    "data_transform = data_transform.withColumn(\"day\", funcs.dayofmonth(\"data_time\"))\n",
    "data_transform = data_transform.withColumn(\"hour\", funcs.hour(\"data_time\"))\n",
    "data_transform = data_transform.withColumn(\"minute\", funcs.minute(\"data_time\"))\n",
    "data_transform = data_transform.withColumn(\"second\", funcs.second(\"data_time\"))"
   ]
  },
  {
   "cell_type": "code",
   "execution_count": 45,
   "id": "45c4db70-3c11-45a5-8e75-3a2b65afc070",
   "metadata": {},
   "outputs": [
    {
     "name": "stderr",
     "output_type": "stream",
     "text": [
      "/usr/local/spark/python/pyspark/sql/pandas/conversion.py:248: FutureWarning: Passing unit-less datetime64 dtype to .astype is deprecated and will raise in a future version. Pass 'datetime64[ns]' instead\n",
      "  series = series.astype(t, copy=False)\n"
     ]
    },
    {
     "data": {
      "text/html": [
       "<div>\n",
       "<style scoped>\n",
       "    .dataframe tbody tr th:only-of-type {\n",
       "        vertical-align: middle;\n",
       "    }\n",
       "\n",
       "    .dataframe tbody tr th {\n",
       "        vertical-align: top;\n",
       "    }\n",
       "\n",
       "    .dataframe thead th {\n",
       "        text-align: right;\n",
       "    }\n",
       "</style>\n",
       "<table border=\"1\" class=\"dataframe\">\n",
       "  <thead>\n",
       "    <tr style=\"text-align: right;\">\n",
       "      <th></th>\n",
       "      <th>tps</th>\n",
       "      <th>data_time</th>\n",
       "      <th>bank_send</th>\n",
       "      <th>bank_receive</th>\n",
       "      <th>proxy_type</th>\n",
       "      <th>datatype</th>\n",
       "      <th>date</th>\n",
       "      <th>year</th>\n",
       "      <th>month</th>\n",
       "      <th>day</th>\n",
       "      <th>hour</th>\n",
       "      <th>minute</th>\n",
       "      <th>second</th>\n",
       "    </tr>\n",
       "  </thead>\n",
       "  <tbody>\n",
       "    <tr>\n",
       "      <th>0</th>\n",
       "      <td>4</td>\n",
       "      <td>2023-05-30 07:20:02</td>\n",
       "      <td>KTB</td>\n",
       "      <td>SCB</td>\n",
       "      <td>NATID</td>\n",
       "      <td>TPS_SWT_LEG1_LEG2_byBANK_andPROXY</td>\n",
       "      <td>2023-05-30</td>\n",
       "      <td>2023</td>\n",
       "      <td>5</td>\n",
       "      <td>30</td>\n",
       "      <td>7</td>\n",
       "      <td>20</td>\n",
       "      <td>2</td>\n",
       "    </tr>\n",
       "    <tr>\n",
       "      <th>1</th>\n",
       "      <td>70</td>\n",
       "      <td>2023-05-30 10:22:24</td>\n",
       "      <td>SCB</td>\n",
       "      <td>KBNK</td>\n",
       "      <td>ACCOUNT</td>\n",
       "      <td>TPS_SWT_LEG1_LEG2_byBANK_andPROXY</td>\n",
       "      <td>2023-05-30</td>\n",
       "      <td>2023</td>\n",
       "      <td>5</td>\n",
       "      <td>30</td>\n",
       "      <td>10</td>\n",
       "      <td>22</td>\n",
       "      <td>24</td>\n",
       "    </tr>\n",
       "    <tr>\n",
       "      <th>2</th>\n",
       "      <td>3</td>\n",
       "      <td>2023-05-30 07:20:02</td>\n",
       "      <td>TMB</td>\n",
       "      <td>SCB</td>\n",
       "      <td>ACCOUNT</td>\n",
       "      <td>TPS_SWT_LEG1_LEG2_byBANK_andPROXY</td>\n",
       "      <td>2023-05-30</td>\n",
       "      <td>2023</td>\n",
       "      <td>5</td>\n",
       "      <td>30</td>\n",
       "      <td>7</td>\n",
       "      <td>20</td>\n",
       "      <td>2</td>\n",
       "    </tr>\n",
       "    <tr>\n",
       "      <th>3</th>\n",
       "      <td>2</td>\n",
       "      <td>2023-05-30 10:22:24</td>\n",
       "      <td>SCB</td>\n",
       "      <td>KBNK</td>\n",
       "      <td>EWALLET</td>\n",
       "      <td>TPS_SWT_LEG1_LEG2_byBANK_andPROXY</td>\n",
       "      <td>2023-05-30</td>\n",
       "      <td>2023</td>\n",
       "      <td>5</td>\n",
       "      <td>30</td>\n",
       "      <td>10</td>\n",
       "      <td>22</td>\n",
       "      <td>24</td>\n",
       "    </tr>\n",
       "    <tr>\n",
       "      <th>4</th>\n",
       "      <td>3</td>\n",
       "      <td>2023-05-30 07:20:02</td>\n",
       "      <td>UOBT</td>\n",
       "      <td>SCB</td>\n",
       "      <td>ACCOUNT</td>\n",
       "      <td>TPS_SWT_LEG1_LEG2_byBANK_andPROXY</td>\n",
       "      <td>2023-05-30</td>\n",
       "      <td>2023</td>\n",
       "      <td>5</td>\n",
       "      <td>30</td>\n",
       "      <td>7</td>\n",
       "      <td>20</td>\n",
       "      <td>2</td>\n",
       "    </tr>\n",
       "  </tbody>\n",
       "</table>\n",
       "</div>"
      ],
      "text/plain": [
       "   tps           data_time bank_send bank_receive proxy_type  \\\n",
       "0    4 2023-05-30 07:20:02       KTB          SCB      NATID   \n",
       "1   70 2023-05-30 10:22:24       SCB         KBNK    ACCOUNT   \n",
       "2    3 2023-05-30 07:20:02       TMB          SCB    ACCOUNT   \n",
       "3    2 2023-05-30 10:22:24       SCB         KBNK    EWALLET   \n",
       "4    3 2023-05-30 07:20:02      UOBT          SCB    ACCOUNT   \n",
       "\n",
       "                            datatype        date  year  month  day  hour  \\\n",
       "0  TPS_SWT_LEG1_LEG2_byBANK_andPROXY  2023-05-30  2023      5   30     7   \n",
       "1  TPS_SWT_LEG1_LEG2_byBANK_andPROXY  2023-05-30  2023      5   30    10   \n",
       "2  TPS_SWT_LEG1_LEG2_byBANK_andPROXY  2023-05-30  2023      5   30     7   \n",
       "3  TPS_SWT_LEG1_LEG2_byBANK_andPROXY  2023-05-30  2023      5   30    10   \n",
       "4  TPS_SWT_LEG1_LEG2_byBANK_andPROXY  2023-05-30  2023      5   30     7   \n",
       "\n",
       "   minute  second  \n",
       "0      20       2  \n",
       "1      22      24  \n",
       "2      20       2  \n",
       "3      22      24  \n",
       "4      20       2  "
      ]
     },
     "execution_count": 45,
     "metadata": {},
     "output_type": "execute_result"
    }
   ],
   "source": [
    "data_transform.limit(5).toPandas()"
   ]
  },
  {
   "cell_type": "code",
   "execution_count": 46,
   "id": "0725293a-5b6d-4927-a683-3b3ef8af78f3",
   "metadata": {},
   "outputs": [],
   "source": [
    "(\n",
    "data_transform.write.mode(\"overwrite\")\n",
    "    .option(\"overwriteSchema\", \"True\")\n",
    "    .option(\"compression\", \"snappy\")\n",
    "    .option(\"path\", \"s3a://warehouse/data_transform.delta\")\n",
    "    .partitionBy(\"date\")\n",
    "    .format(\"delta\")\n",
    "    .saveAsTable(\"data_transform\")\n",
    ")"
   ]
  },
  {
   "cell_type": "code",
   "execution_count": 47,
   "id": "31621bab-0fd9-426d-947d-4899c40584fa",
   "metadata": {},
   "outputs": [
    {
     "data": {
      "text/html": [
       "<div>\n",
       "<style scoped>\n",
       "    .dataframe tbody tr th:only-of-type {\n",
       "        vertical-align: middle;\n",
       "    }\n",
       "\n",
       "    .dataframe tbody tr th {\n",
       "        vertical-align: top;\n",
       "    }\n",
       "\n",
       "    .dataframe thead th {\n",
       "        text-align: right;\n",
       "    }\n",
       "</style>\n",
       "<table border=\"1\" class=\"dataframe\">\n",
       "  <thead>\n",
       "    <tr style=\"text-align: right;\">\n",
       "      <th></th>\n",
       "      <th>namespace</th>\n",
       "      <th>tableName</th>\n",
       "      <th>isTemporary</th>\n",
       "    </tr>\n",
       "  </thead>\n",
       "  <tbody>\n",
       "    <tr>\n",
       "      <th>0</th>\n",
       "      <td>default</td>\n",
       "      <td>bank_name</td>\n",
       "      <td>False</td>\n",
       "    </tr>\n",
       "    <tr>\n",
       "      <th>1</th>\n",
       "      <td>default</td>\n",
       "      <td>data_transform</td>\n",
       "      <td>False</td>\n",
       "    </tr>\n",
       "    <tr>\n",
       "      <th>2</th>\n",
       "      <td>default</td>\n",
       "      <td>pp_transaction</td>\n",
       "      <td>False</td>\n",
       "    </tr>\n",
       "    <tr>\n",
       "      <th>3</th>\n",
       "      <td>default</td>\n",
       "      <td>use_case</td>\n",
       "      <td>False</td>\n",
       "    </tr>\n",
       "    <tr>\n",
       "      <th>4</th>\n",
       "      <td>default</td>\n",
       "      <td>use_case2</td>\n",
       "      <td>False</td>\n",
       "    </tr>\n",
       "  </tbody>\n",
       "</table>\n",
       "</div>"
      ],
      "text/plain": [
       "  namespace       tableName  isTemporary\n",
       "0   default       bank_name        False\n",
       "1   default  data_transform        False\n",
       "2   default  pp_transaction        False\n",
       "3   default        use_case        False\n",
       "4   default       use_case2        False"
      ]
     },
     "execution_count": 47,
     "metadata": {},
     "output_type": "execute_result"
    }
   ],
   "source": [
    "spark.sql(\"show tables\").toPandas()"
   ]
  },
  {
   "cell_type": "code",
   "execution_count": 48,
   "id": "b82c9084-b7b6-4587-86da-31265e595499",
   "metadata": {},
   "outputs": [],
   "source": [
    "spark.stop()"
   ]
  },
  {
   "cell_type": "code",
   "execution_count": null,
   "id": "c0266e5c-4bd0-4ceb-9db2-55938f79cc68",
   "metadata": {},
   "outputs": [],
   "source": []
  }
 ],
 "metadata": {
  "kernelspec": {
   "display_name": "Python 3 (ipykernel)",
   "language": "python",
   "name": "python3"
  },
  "language_info": {
   "codemirror_mode": {
    "name": "ipython",
    "version": 3
   },
   "file_extension": ".py",
   "mimetype": "text/x-python",
   "name": "python",
   "nbconvert_exporter": "python",
   "pygments_lexer": "ipython3",
   "version": "3.8.13"
  }
 },
 "nbformat": 4,
 "nbformat_minor": 5
}
