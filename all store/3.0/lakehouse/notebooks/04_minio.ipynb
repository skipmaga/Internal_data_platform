{
 "cells": [
  {
   "cell_type": "code",
   "execution_count": 1,
   "id": "e5abe5a0-ab68-4080-9815-0a91c520f30b",
   "metadata": {},
   "outputs": [],
   "source": [
    "from datetime import datetime\n",
    "from pyspark import SparkContext, HiveContext\n",
    "from pyspark.sql import SparkSession, SQLContext\n",
    "import pyspark.sql.functions as funcs\n",
    "import pandas as pd\n",
    "from pyspark.sql.functions import row_number,lit\n",
    "from pyspark.sql.window import Window\n",
    "import pyspark"
   ]
  },
  {
   "cell_type": "code",
   "execution_count": 2,
   "id": "c07677cc-f1f3-4eb1-a85d-0769bef53525",
   "metadata": {},
   "outputs": [
    {
     "name": "stderr",
     "output_type": "stream",
     "text": [
      "/usr/local/spark/python/pyspark/sql/context.py:112: FutureWarning: Deprecated in 3.0.0. Use SparkSession.builder.getOrCreate() instead.\n",
      "  warnings.warn(\n"
     ]
    }
   ],
   "source": [
    "spark = (SparkSession.builder.appName(\"pyspark-03-{}\".format(datetime.today()))\n",
    "        .master(\"spark://192.168.1.11:8081\")\n",
    "        .getOrCreate())\n",
    "sqlContext = SQLContext(spark)\n",
    "#spark.sparkContext.getConf().getAll()"
   ]
  },
  {
   "cell_type": "code",
   "execution_count": 9,
   "id": "f4a13393-7ad7-4941-af29-c64584f11571",
   "metadata": {},
   "outputs": [],
   "source": [
    "import minio\n",
    "from datetime import datetime\n",
    "\n",
    "def get_newest_object(bucket_name):\n",
    "    # Set the endpoint, access key, and secret key of your MinIO server\n",
    "    client = minio.Minio(endpoint=\"192.168.1.11:9000\",access_key=\"nqvvKky090JPgLoaZCfX\",secret_key=\"0NiD7mNLchbcnebXdtZH3ybcRVugI6x8G1con7ei\",secure=False)\n",
    "\n",
    "    # List all of the objects in the specified bucket\n",
    "    objects = client.list_objects(bucket_name=bucket_name)\n",
    "\n",
    "    # Initialize variables to track the newest object\n",
    "    newest_object = None\n",
    "    newest_timestamp = datetime.min\n",
    "\n",
    "    # Iterate through each object and update the newest object and timestamp if necessary\n",
    "    for obj in objects:\n",
    "        object_timestamp = obj.last_modified\n",
    "        if object_timestamp > newest_timestamp:\n",
    "            newest_object = obj\n",
    "            newest_timestamp = object_timestamp\n",
    "\n",
    "    return newest_object"
   ]
  },
  {
   "cell_type": "code",
   "execution_count": 11,
   "id": "d01316c9-808c-4ba3-ad43-1bb7784e5aff",
   "metadata": {},
   "outputs": [],
   "source": [
    "buckets = client.list_buckets()"
   ]
  },
  {
   "cell_type": "code",
   "execution_count": 12,
   "id": "032b35ef-4152-438a-a0e0-8d97d6586000",
   "metadata": {},
   "outputs": [
    {
     "name": "stdout",
     "output_type": "stream",
     "text": [
      "pp-transaction\n",
      "warehouse\n"
     ]
    }
   ],
   "source": [
    "for bucket in buckets :\n",
    "    print(bucket.name)"
   ]
  },
  {
   "cell_type": "code",
   "execution_count": 13,
   "id": "abc83cb2-e06c-4da4-85c4-44874b3c9ff1",
   "metadata": {},
   "outputs": [
    {
     "ename": "TypeError",
     "evalue": "can't compare offset-naive and offset-aware datetimes",
     "output_type": "error",
     "traceback": [
      "\u001b[0;31m---------------------------------------------------------------------------\u001b[0m",
      "\u001b[0;31mTypeError\u001b[0m                                 Traceback (most recent call last)",
      "Cell \u001b[0;32mIn [13], line 3\u001b[0m\n\u001b[1;32m      1\u001b[0m \u001b[38;5;66;03m# Example usage\u001b[39;00m\n\u001b[1;32m      2\u001b[0m bucket_name \u001b[38;5;241m=\u001b[39m \u001b[38;5;124m'\u001b[39m\u001b[38;5;124mpp-transaction\u001b[39m\u001b[38;5;124m'\u001b[39m\n\u001b[0;32m----> 3\u001b[0m newest_object \u001b[38;5;241m=\u001b[39m \u001b[43mget_newest_object\u001b[49m\u001b[43m(\u001b[49m\u001b[43mbucket_name\u001b[49m\u001b[43m)\u001b[49m\n\u001b[1;32m      4\u001b[0m \u001b[38;5;28;01mif\u001b[39;00m newest_object:\n\u001b[1;32m      5\u001b[0m     \u001b[38;5;28mprint\u001b[39m(\u001b[38;5;124m\"\u001b[39m\u001b[38;5;124mNewest object:\u001b[39m\u001b[38;5;124m\"\u001b[39m, newest_object\u001b[38;5;241m.\u001b[39mname, \u001b[38;5;124m\"\u001b[39m\u001b[38;5;124m(last modified:\u001b[39m\u001b[38;5;124m\"\u001b[39m, newest_object\u001b[38;5;241m.\u001b[39mlast_modified, \u001b[38;5;124m\"\u001b[39m\u001b[38;5;124m)\u001b[39m\u001b[38;5;124m\"\u001b[39m)\n",
      "Cell \u001b[0;32mIn [9], line 18\u001b[0m, in \u001b[0;36mget_newest_object\u001b[0;34m(bucket_name)\u001b[0m\n\u001b[1;32m     16\u001b[0m \u001b[38;5;28;01mfor\u001b[39;00m obj \u001b[38;5;129;01min\u001b[39;00m objects:\n\u001b[1;32m     17\u001b[0m     object_timestamp \u001b[38;5;241m=\u001b[39m obj\u001b[38;5;241m.\u001b[39mlast_modified\n\u001b[0;32m---> 18\u001b[0m     \u001b[38;5;28;01mif\u001b[39;00m \u001b[43mobject_timestamp\u001b[49m\u001b[43m \u001b[49m\u001b[38;5;241;43m>\u001b[39;49m\u001b[43m \u001b[49m\u001b[43mnewest_timestamp\u001b[49m:\n\u001b[1;32m     19\u001b[0m         newest_object \u001b[38;5;241m=\u001b[39m obj\n\u001b[1;32m     20\u001b[0m         newest_timestamp \u001b[38;5;241m=\u001b[39m object_timestamp\n",
      "\u001b[0;31mTypeError\u001b[0m: can't compare offset-naive and offset-aware datetimes"
     ]
    }
   ],
   "source": [
    "# Example usage\n",
    "bucket_name = 'pp-transaction'\n",
    "newest_object = get_newest_object(bucket_name)\n",
    "if newest_object:\n",
    "    print(\"Newest object:\", newest_object.name, \"(last modified:\", newest_object.last_modified, \")\")\n",
    "else:\n",
    "    print(\"No objects found in bucket:\", bucket_name)"
   ]
  },
  {
   "cell_type": "code",
   "execution_count": null,
   "id": "aab71073-9e16-44a8-ba03-97176436d65f",
   "metadata": {},
   "outputs": [],
   "source": []
  }
 ],
 "metadata": {
  "kernelspec": {
   "display_name": "Python 3 (ipykernel)",
   "language": "python",
   "name": "python3"
  },
  "language_info": {
   "codemirror_mode": {
    "name": "ipython",
    "version": 3
   },
   "file_extension": ".py",
   "mimetype": "text/x-python",
   "name": "python",
   "nbconvert_exporter": "python",
   "pygments_lexer": "ipython3",
   "version": "3.8.13"
  }
 },
 "nbformat": 4,
 "nbformat_minor": 5
}
